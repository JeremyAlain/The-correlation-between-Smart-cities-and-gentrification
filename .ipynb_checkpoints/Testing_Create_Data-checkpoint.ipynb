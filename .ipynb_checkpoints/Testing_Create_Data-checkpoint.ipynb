{
 "cells": [
  {
   "cell_type": "markdown",
   "metadata": {},
   "source": [
    "# Create Database"
   ]
  },
  {
   "cell_type": "code",
   "execution_count": 1,
   "metadata": {
    "collapsed": true
   },
   "outputs": [],
   "source": [
    "import numpy as np \n",
    "import pandas as pd "
   ]
  },
  {
   "cell_type": "markdown",
   "metadata": {},
   "source": [
    "### Import the files"
   ]
  },
  {
   "cell_type": "markdown",
   "metadata": {},
   "source": [
    "####  DEV Testing"
   ]
  },
  {
   "cell_type": "code",
   "execution_count": 2,
   "metadata": {},
   "outputs": [
    {
     "name": "stdout",
     "output_type": "stream",
     "text": [
      "Input matrix [[  1.   1.   1.   1.   0.]\n",
      " [ nan   1.   1.   0.   1.]\n",
      " [ nan  nan   1.   1.   1.]\n",
      " [ nan  nan  nan   1.   1.]\n",
      " [ nan  nan  nan  nan   1.]]\n",
      "Shape (5, 5)\n",
      "Test matrix [[  0.   1.   1.   1.   2.]\n",
      " [ nan   0.   1.   2.   1.]\n",
      " [ nan  nan   0.   1.   1.]\n",
      " [ nan  nan  nan   0.   1.]\n",
      " [ nan  nan  nan  nan   0.]]\n"
     ]
    }
   ],
   "source": [
    "# Input File \n",
    "input_file = pd.read_csv('input_format.csv', header=None)\n",
    "adjacency_mat = input_file.as_matrix()\n",
    "print(\"Input matrix\", adjacency_mat)\n",
    "print(\"Shape\", adjacency_mat.shape)\n",
    "\n",
    "# Test File \n",
    "test_file = pd.read_csv('test_result.csv', header=None)\n",
    "neighbor_jumps = test_file.as_matrix()\n",
    "print(\"Test matrix\", neighbor_jumps)"
   ]
  },
  {
   "cell_type": "markdown",
   "metadata": {},
   "source": [
    "#### Real data"
   ]
  },
  {
   "cell_type": "markdown",
   "metadata": {},
   "source": [
    "### Calculate neighbours"
   ]
  },
  {
   "cell_type": "code",
   "execution_count": 38,
   "metadata": {
    "collapsed": true
   },
   "outputs": [],
   "source": [
    "def compute_neighbors(adjacency_mat):    \n",
    "    height = adjacency_mat.shape[0]\n",
    "    neighbor_jumps = np.zeros((height, height))\n",
    "    \n",
    "    # make the adjacency_matrix symmetric for easier computation.\n",
    "    symmetric_adj = adjacency_mat\n",
    "    for i in range(height):\n",
    "        for j in range(height):\n",
    "            symmetric_adj[j,i] = adjacency_mat[i,j]\n",
    "        \n",
    "    # height = widht -> symmetric\n",
    "    for i in range(height):\n",
    "        for j in range(height):\n",
    "            # only for upper triangular part, diag = 0 \n",
    "            if(j>i):\n",
    "                counts = []\n",
    "                ret_counts = find_neighbors(symmetric_adj, i, j, 1, height, counts)\n",
    "                neighbor_jumps[i,j] = np.min(ret_counts)\n",
    "    return neighbor_jumps\n",
    "                \n",
    "def find_neighbors(symmetric_adj, i, j, count, size, counts):\n",
    "    if(symmetric_adj[i,j] == 1):\n",
    "        counts.append(count)\n",
    "        return counts\n",
    "    else: \n",
    "        for k in range(size):\n",
    "            if(i!=k):\n",
    "                ret_counts = find_neighbors(symmetric_adj, k, j, count+1, size, counts)\n",
    "                counts = counts+(ret_counts)\n",
    "                return counts"
   ]
  },
  {
   "cell_type": "markdown",
   "metadata": {},
   "source": [
    "#### DEV Testing"
   ]
  },
  {
   "cell_type": "code",
   "execution_count": 39,
   "metadata": {},
   "outputs": [
    {
     "name": "stdout",
     "output_type": "stream",
     "text": [
      "[[ 0.  1.  1.  1.  2.]\n",
      " [ 0.  0.  1.  2.  1.]\n",
      " [ 0.  0.  0.  1.  1.]\n",
      " [ 0.  0.  0.  0.  1.]\n",
      " [ 0.  0.  0.  0.  0.]]\n"
     ]
    }
   ],
   "source": [
    "neighbor_jumps_comp = compute_neighbors(adjacency_mat)\n",
    "print(neighbor_jumps_comp)"
   ]
  },
  {
   "cell_type": "code",
   "execution_count": null,
   "metadata": {
    "collapsed": true
   },
   "outputs": [],
   "source": []
  },
  {
   "cell_type": "code",
   "execution_count": null,
   "metadata": {
    "collapsed": true
   },
   "outputs": [],
   "source": []
  }
 ],
 "metadata": {
  "kernelspec": {
   "display_name": "Python 3",
   "language": "python",
   "name": "python3"
  },
  "language_info": {
   "codemirror_mode": {
    "name": "ipython",
    "version": 3
   },
   "file_extension": ".py",
   "mimetype": "text/x-python",
   "name": "python",
   "nbconvert_exporter": "python",
   "pygments_lexer": "ipython3",
   "version": "3.6.2"
  }
 },
 "nbformat": 4,
 "nbformat_minor": 2
}
