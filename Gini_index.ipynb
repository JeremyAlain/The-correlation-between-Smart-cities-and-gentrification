{
 "cells": [
  {
   "cell_type": "code",
   "execution_count": 1,
   "metadata": {
    "collapsed": true
   },
   "outputs": [],
   "source": [
    "import numpy as np\n",
    "import pandas as pd \n",
    "import networkx as nx\n",
    "import matplotlib.pyplot as plt"
   ]
  },
  {
   "cell_type": "code",
   "execution_count": 2,
   "metadata": {
    "collapsed": true
   },
   "outputs": [],
   "source": [
    "# taken from https://github.com/oliviaguest/gini\n",
    "def gini(array):\n",
    "    \"\"\"Calculate the Gini coefficient of a numpy array.\"\"\"\n",
    "    # based on bottom eq:\n",
    "    # http://www.statsdirect.com/help/generatedimages/equations/equation154.svg\n",
    "    # from:\n",
    "    # http://www.statsdirect.com/help/default.htm#nonparametric_methods/gini.htm\n",
    "    # All values are treated equally, arrays must be 1d:\n",
    "    array = array.flatten()\n",
    "    if np.amin(array) < 0:\n",
    "        # Values cannot be negative:\n",
    "        array -= np.amin(array)\n",
    "    # Values cannot be 0:\n",
    "    array += 0.0000001\n",
    "    # Values must be sorted:\n",
    "    array = np.sort(array)\n",
    "    # Index per array element:\n",
    "    index = np.arange(1,array.shape[0]+1)\n",
    "    # Number of array elements:\n",
    "    n = array.shape[0]\n",
    "    # Gini coefficient:\n",
    "    return ((np.sum((2 * index - n  - 1) * array)) / (n * np.sum(array)))"
   ]
  },
  {
   "cell_type": "markdown",
   "metadata": {},
   "source": [
    "# All smart-cities calculate G_index"
   ]
  },
  {
   "cell_type": "code",
   "execution_count": 3,
   "metadata": {},
   "outputs": [
    {
     "name": "stdout",
     "output_type": "stream",
     "text": [
      "Hamburg\n",
      "Sydney\n",
      "Melbourne\n",
      "New York\n",
      "Berlin\n",
      "Vienna\n",
      "Chicago\n",
      "Los Angeles\n",
      "Boston\n",
      "Washington D.C.\n",
      "San Francisco\n",
      "London\n",
      "[ 0.26832336  0.16669113  0.16187936  0.18267372  0.06869434  0.10467583\n",
      "  0.24157819  0.33369829  0.26499108  0.26881433  0.20125871  0.16467708]\n"
     ]
    }
   ],
   "source": [
    "cities = [\"Hamburg\", \"Sydney\", \"Melbourne\", \"New York\", \"Berlin\", \"Vienna\", \"Chicago\", \"Los Angeles\", \"Boston\", \"Washington D.C.\", \"San Francisco\", \"London\"]\n",
    "Gini_index_smart = np.zeros((len(cities)))\n",
    "city_index = 0\n",
    "for city in cities:\n",
    "    print(city)\n",
    "    income = pd.read_excel(\"Cities Household Income per district/Regressed_smart_city_household_income.xlsx\", city)\n",
    "    city_income = income.as_matrix()\n",
    "    Gini_index_smart[city_index] = gini(city_income)\n",
    "    city_index +=1\n",
    "print(Gini_index_smart)"
   ]
  },
  {
   "cell_type": "code",
   "execution_count": 4,
   "metadata": {},
   "outputs": [],
   "source": [
    "np.savetxt(\"Results/Gini/All_smart_cities_Gini_index.csv\", Gini_index_smart, delimiter=\",\")"
   ]
  },
  {
   "cell_type": "markdown",
   "metadata": {},
   "source": [
    "# All Non-Smart-Cities calculate G-index"
   ]
  },
  {
   "cell_type": "code",
   "execution_count": 5,
   "metadata": {},
   "outputs": [
    {
     "name": "stdout",
     "output_type": "stream",
     "text": [
      "San Antonio\n",
      "San Diego\n",
      "Austin\n",
      "Jacksonville\n",
      "San Juan\n",
      "Columbus\n",
      "Indianapolis\n",
      "Brisbane\n",
      "Perth\n",
      "Adelaide\n",
      "[ 0.25564736  0.22381133  0.24626929  0.15977666  0.24674935  0.25172792\n",
      "  0.21738776  0.1188503   0.12963385  0.12179842]\n"
     ]
    }
   ],
   "source": [
    "cities = [\"San Antonio\", \"San Diego\", \"Austin\", \"Jacksonville\", \"San Juan\", \"Columbus\", \"Indianapolis\", \"Brisbane\", \"Perth\", \"Adelaide\"]\n",
    "Gini_index = np.zeros((len(cities)))\n",
    "city_index = 0\n",
    "for city in cities:\n",
    "    print(city)\n",
    "    income = pd.read_excel(\"Cities Household Income per district/Regressed_NON_smart_city_household_income.xlsx\", city)\n",
    "    city_income = income.as_matrix()\n",
    "    Gini_index[city_index] = gini(city_income)\n",
    "    city_index +=1\n",
    "print(Gini_index)"
   ]
  },
  {
   "cell_type": "code",
   "execution_count": 6,
   "metadata": {},
   "outputs": [],
   "source": [
    "np.savetxt(\"Results/Gini/All_non-smart_cities_Gini_index.csv\", Gini_index, delimiter=\",\")"
   ]
  },
  {
   "cell_type": "code",
   "execution_count": 7,
   "metadata": {},
   "outputs": [
    {
     "name": "stdout",
     "output_type": "stream",
     "text": [
      "0.003015778037\n",
      "0.00530051808966\n",
      "0.197165224378\n",
      "0.202329617218\n"
     ]
    }
   ],
   "source": [
    "# Variance and mean\n",
    "print(np.var(Gini_index))\n",
    "print(np.var(Gini_index_smart))\n",
    "print(np.mean(Gini_index))\n",
    "print(np.mean(Gini_index_smart))"
   ]
  },
  {
   "cell_type": "markdown",
   "metadata": {},
   "source": [
    "# Smart Cities only IESE"
   ]
  },
  {
   "cell_type": "code",
   "execution_count": 8,
   "metadata": {},
   "outputs": [
    {
     "name": "stdout",
     "output_type": "stream",
     "text": [
      "Sydney\n",
      "Melbourne\n",
      "New York\n",
      "Berlin\n",
      "Vienna\n",
      "Chicago\n",
      "Los Angeles\n",
      "Boston\n",
      "Washington D.C.\n",
      "San Francisco\n",
      "London\n",
      "[ 0.16669113  0.16187936  0.18267372  0.06869434  0.10467583  0.24157819\n",
      "  0.33369829  0.26499108  0.26881433  0.20125871  0.16467708]\n"
     ]
    }
   ],
   "source": [
    "cities = [\"Sydney\", \"Melbourne\", \"New York\", \"Berlin\", \"Vienna\", \"Chicago\",\"Los Angeles\", \"Boston\", \"Washington D.C.\", \"San Francisco\", \"London\"]\n",
    "Gini_index_smart = np.zeros((len(cities)))\n",
    "city_index = 0\n",
    "for city in cities:\n",
    "    print(city)\n",
    "    income = pd.read_excel(\"Cities Household Income per district/Regressed_smart_city_household_income.xlsx\", city)\n",
    "    city_income = income.as_matrix()\n",
    "    Gini_index_smart[city_index] = gini(city_income)\n",
    "    city_index +=1\n",
    "print(Gini_index_smart)"
   ]
  },
  {
   "cell_type": "code",
   "execution_count": 9,
   "metadata": {
    "collapsed": true
   },
   "outputs": [],
   "source": [
    "np.savetxt(\"Results/Gini/IESE_smart_cities_Gini_index.csv\", Gini_index_smart, delimiter=\",\")"
   ]
  },
  {
   "cell_type": "markdown",
   "metadata": {},
   "source": [
    "# Smart cities only easypark"
   ]
  },
  {
   "cell_type": "code",
   "execution_count": 10,
   "metadata": {},
   "outputs": [
    {
     "name": "stdout",
     "output_type": "stream",
     "text": [
      "Hamburg\n",
      "Sydney\n",
      "Melbourne\n",
      "Berlin\n",
      "Los Angeles\n",
      "Boston\n",
      "San Francisco\n",
      "London\n",
      "[ 0.26832336  0.16669113  0.16187936  0.06869434  0.33369829  0.26499108\n",
      "  0.20125871  0.16467708]\n"
     ]
    }
   ],
   "source": [
    "cities = [\"Hamburg\",\"Sydney\", \"Melbourne\",  \"Berlin\",  \"Los Angeles\", \"Boston\",  \"San Francisco\", \"London\"]\n",
    "Gini_index_smart = np.zeros((len(cities)))\n",
    "city_index = 0\n",
    "for city in cities:\n",
    "    print(city)\n",
    "    income = pd.read_excel(\"Cities Household Income per district/Regressed_smart_city_household_income.xlsx\", city)\n",
    "    city_income = income.as_matrix()\n",
    "    Gini_index_smart[city_index] = gini(city_income)\n",
    "    city_index +=1\n",
    "print(Gini_index_smart)"
   ]
  },
  {
   "cell_type": "code",
   "execution_count": 11,
   "metadata": {
    "collapsed": true
   },
   "outputs": [],
   "source": [
    "np.savetxt(\"Results/Gini/Easypark_smart_cities_Gini_index.csv\", Gini_index_smart, delimiter=\",\")"
   ]
  }
 ],
 "metadata": {
  "kernelspec": {
   "display_name": "Python 3",
   "language": "python",
   "name": "python3"
  },
  "language_info": {
   "codemirror_mode": {
    "name": "ipython",
    "version": 3
   },
   "file_extension": ".py",
   "mimetype": "text/x-python",
   "name": "python",
   "nbconvert_exporter": "python",
   "pygments_lexer": "ipython3",
   "version": "3.6.2"
  }
 },
 "nbformat": 4,
 "nbformat_minor": 2
}
