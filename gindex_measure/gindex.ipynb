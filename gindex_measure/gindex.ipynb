{
 "cells": [
  {
   "cell_type": "code",
   "execution_count": 1,
   "metadata": {
    "collapsed": true
   },
   "outputs": [],
   "source": [
    "import numpy as np"
   ]
  },
  {
   "cell_type": "code",
   "execution_count": 2,
   "metadata": {
    "collapsed": true
   },
   "outputs": [],
   "source": [
    "data_08 = np.array([21985.714,17978.571,17689.286,19596.429,16225.714,18825,14839.286,17400,\n",
    "                   15471.429,17410.714,17721.429,17775])\n",
    "data_16 = np.array([27900,21300,25500,24300,21900,23700,21600,25800,\n",
    "                   20400,21900,23400,24600])"
   ]
  },
  {
   "cell_type": "code",
   "execution_count": 3,
   "metadata": {
    "collapsed": true
   },
   "outputs": [],
   "source": [
    "rel = (data_16 - data_08) / data_16"
   ]
  },
  {
   "cell_type": "code",
   "execution_count": 4,
   "metadata": {},
   "outputs": [
    {
     "data": {
      "text/plain": [
       "array([ 0.21198158,  0.15593563,  0.30630251,  0.19356259,  0.25909982,\n",
       "        0.2056962 ,  0.31299602,  0.3255814 ,  0.24159662,  0.20499023,\n",
       "        0.24267397,  0.27743902])"
      ]
     },
     "execution_count": 4,
     "metadata": {},
     "output_type": "execute_result"
    }
   ],
   "source": [
    "rel"
   ]
  },
  {
   "cell_type": "code",
   "execution_count": 5,
   "metadata": {},
   "outputs": [
    {
     "data": {
      "text/plain": [
       "array([ 0.21,  0.16,  0.31,  0.19,  0.26,  0.21,  0.31,  0.33,  0.24,\n",
       "        0.2 ,  0.24,  0.28])"
      ]
     },
     "execution_count": 5,
     "metadata": {},
     "output_type": "execute_result"
    }
   ],
   "source": [
    "np.round(rel,2)"
   ]
  },
  {
   "cell_type": "code",
   "execution_count": 6,
   "metadata": {
    "collapsed": true
   },
   "outputs": [],
   "source": [
    "mean_08 = np.mean(data_08)\n",
    "mean_16 = np.mean(data_16)"
   ]
  },
  {
   "cell_type": "code",
   "execution_count": 7,
   "metadata": {
    "collapsed": true
   },
   "outputs": [],
   "source": [
    "rel_all = (mean_16 - mean_08) / mean_16"
   ]
  },
  {
   "cell_type": "code",
   "execution_count": 8,
   "metadata": {},
   "outputs": [
    {
     "data": {
      "text/plain": [
       "(17743.214333333333, 23525.0)"
      ]
     },
     "execution_count": 8,
     "metadata": {},
     "output_type": "execute_result"
    }
   ],
   "source": [
    "mean_08, mean_16"
   ]
  },
  {
   "cell_type": "code",
   "execution_count": 9,
   "metadata": {},
   "outputs": [
    {
     "data": {
      "text/plain": [
       "0.24577197307828552"
      ]
     },
     "execution_count": 9,
     "metadata": {},
     "output_type": "execute_result"
    }
   ],
   "source": [
    "rel_all"
   ]
  },
  {
   "cell_type": "code",
   "execution_count": 10,
   "metadata": {
    "collapsed": true
   },
   "outputs": [],
   "source": [
    "r = (rel - rel_all) / rel_all"
   ]
  },
  {
   "cell_type": "code",
   "execution_count": 11,
   "metadata": {},
   "outputs": [
    {
     "data": {
      "text/plain": [
       "array([-0.13748678, -0.36552719,  0.24628739, -0.21243016,  0.0542285 ,\n",
       "       -0.16306078,  0.27352202,  0.32472955, -0.01698874, -0.16593326,\n",
       "       -0.01260517,  0.12884728])"
      ]
     },
     "execution_count": 11,
     "metadata": {},
     "output_type": "execute_result"
    }
   ],
   "source": [
    "r"
   ]
  },
  {
   "cell_type": "code",
   "execution_count": 12,
   "metadata": {},
   "outputs": [
    {
     "data": {
      "text/plain": [
       "array([-0.14, -0.37,  0.25, -0.21,  0.05, -0.16,  0.27,  0.32, -0.02,\n",
       "       -0.17, -0.01,  0.13])"
      ]
     },
     "execution_count": 12,
     "metadata": {},
     "output_type": "execute_result"
    }
   ],
   "source": [
    "np.round(r,2)"
   ]
  },
  {
   "cell_type": "code",
   "execution_count": 13,
   "metadata": {
    "collapsed": true
   },
   "outputs": [],
   "source": [
    "D = np.zeros((12,12))"
   ]
  },
  {
   "cell_type": "code",
   "execution_count": 14,
   "metadata": {
    "collapsed": true
   },
   "outputs": [],
   "source": [
    "ind = np.triu_indices(12,1)"
   ]
  },
  {
   "cell_type": "code",
   "execution_count": 15,
   "metadata": {
    "collapsed": true
   },
   "outputs": [],
   "source": [
    "d = np.array([1,1,1./2,1./2,1,1./2,1./3,1./2,1./3,1./4,1./3,\n",
    "              1,1,1./2,1./2,1./3,1./2,1./3,1./3,1./4,1./4,\n",
    "              1,1,1,1./2,1./2,1./2,1./3,1./4,1./3,\n",
    "              1,1./2,1./2,1,1./3,1./2,1./3,1./3,\n",
    "              1,1,1,1./2,1./2,1./3,1./2,\n",
    "              1,1./2,1,1./2,1./3,1./2,\n",
    "              1,1,1,1./2,1,\n",
    "              1./2,1,1./2,1./2,\n",
    "              1./2,1./2,1,\n",
    "              1,1,\n",
    "              1])"
   ]
  },
  {
   "cell_type": "code",
   "execution_count": 16,
   "metadata": {
    "collapsed": true
   },
   "outputs": [],
   "source": [
    "D[ind] = d"
   ]
  },
  {
   "cell_type": "code",
   "execution_count": 17,
   "metadata": {
    "collapsed": true
   },
   "outputs": [],
   "source": [
    "D += D.T"
   ]
  },
  {
   "cell_type": "code",
   "execution_count": 18,
   "metadata": {},
   "outputs": [
    {
     "data": {
      "text/plain": [
       "array([[ 0.        ,  1.        ,  1.        ,  0.5       ,  0.5       ,\n",
       "         1.        ,  0.5       ,  0.33333333,  0.5       ,  0.33333333,\n",
       "         0.25      ,  0.33333333],\n",
       "       [ 1.        ,  0.        ,  1.        ,  1.        ,  0.5       ,\n",
       "         0.5       ,  0.33333333,  0.5       ,  0.33333333,  0.33333333,\n",
       "         0.25      ,  0.25      ],\n",
       "       [ 1.        ,  1.        ,  0.        ,  1.        ,  1.        ,\n",
       "         1.        ,  0.5       ,  0.5       ,  0.5       ,  0.33333333,\n",
       "         0.25      ,  0.33333333],\n",
       "       [ 0.5       ,  1.        ,  1.        ,  0.        ,  1.        ,\n",
       "         0.5       ,  0.5       ,  1.        ,  0.33333333,  0.5       ,\n",
       "         0.33333333,  0.33333333],\n",
       "       [ 0.5       ,  0.5       ,  1.        ,  1.        ,  0.        ,\n",
       "         1.        ,  1.        ,  1.        ,  0.5       ,  0.5       ,\n",
       "         0.33333333,  0.5       ],\n",
       "       [ 1.        ,  0.5       ,  1.        ,  0.5       ,  1.        ,\n",
       "         0.        ,  1.        ,  0.5       ,  1.        ,  0.5       ,\n",
       "         0.33333333,  0.5       ],\n",
       "       [ 0.5       ,  0.33333333,  0.5       ,  0.5       ,  1.        ,\n",
       "         1.        ,  0.        ,  1.        ,  1.        ,  1.        ,\n",
       "         0.5       ,  1.        ],\n",
       "       [ 0.33333333,  0.5       ,  0.5       ,  1.        ,  1.        ,\n",
       "         0.5       ,  1.        ,  0.        ,  0.5       ,  1.        ,\n",
       "         0.5       ,  0.5       ],\n",
       "       [ 0.5       ,  0.33333333,  0.5       ,  0.33333333,  0.5       ,\n",
       "         1.        ,  1.        ,  0.5       ,  0.        ,  0.5       ,\n",
       "         0.5       ,  1.        ],\n",
       "       [ 0.33333333,  0.33333333,  0.33333333,  0.5       ,  0.5       ,\n",
       "         0.5       ,  1.        ,  1.        ,  0.5       ,  0.        ,\n",
       "         1.        ,  1.        ],\n",
       "       [ 0.25      ,  0.25      ,  0.25      ,  0.33333333,  0.33333333,\n",
       "         0.33333333,  0.5       ,  0.5       ,  0.5       ,  1.        ,\n",
       "         0.        ,  1.        ],\n",
       "       [ 0.33333333,  0.25      ,  0.33333333,  0.33333333,  0.5       ,\n",
       "         0.5       ,  1.        ,  0.5       ,  1.        ,  1.        ,\n",
       "         1.        ,  0.        ]])"
      ]
     },
     "execution_count": 18,
     "metadata": {},
     "output_type": "execute_result"
    }
   ],
   "source": [
    "D"
   ]
  },
  {
   "cell_type": "markdown",
   "metadata": {
    "collapsed": true
   },
   "source": [
    "N_07 = np.array([161.4, 119.3, 199.7, 125.9, 187.8, 189.4, 173.5,\n",
    "                 218.8, 166.4, 141.9, 127.9, 128.9])\n",
    "N_16 = np.array([152, 124.4, 182.5, 133, 212.3, 183.5, 164.7,\n",
    "                 214.9, 169.8, 159.5, 132.8, 134.6])"
   ]
  },
  {
   "cell_type": "markdown",
   "metadata": {
    "collapsed": true
   },
   "source": [
    "H = N_16 / N_07"
   ]
  },
  {
   "cell_type": "markdown",
   "metadata": {},
   "source": [
    "np.round(H,2)"
   ]
  },
  {
   "cell_type": "code",
   "execution_count": 21,
   "metadata": {
    "collapsed": true
   },
   "outputs": [],
   "source": [
    "G = 0\n",
    "Gi = np.zeros_like(r)\n",
    "for i in np.arange(len(r)):\n",
    "    Gi[i] = np.sum((r[i] - r)**2 * D[i]**2)\n",
    "    G += Gi[i]\n",
    "G /= np.size(Gi)"
   ]
  },
  {
   "cell_type": "code",
   "execution_count": 23,
   "metadata": {},
   "outputs": [],
   "source": [
    "Gp = 0\n",
    "Gpi = np.zeros_like(r)\n",
    "for i in np.arange(len(r)):\n",
    "    Gpi[i] = np.sum((r[i] - r)**2 * D[i])\n",
    "    Gp += Gpi[i]\n",
    "Gp /= np.size(Gpi)\n",
    "    \n",
    "Gpp = 0\n",
    "Gppi = np.zeros_like(r)\n",
    "for i in np.arange(len(r)):\n",
    "    Gppi[i] = np.sum(np.abs(r[i] - r) * D[i]**2)\n",
    "    Gpp += Gppi[i]\n",
    "Gpp /= np.size(Gppi)\n",
    "\n",
    "Gppp = 0\n",
    "Gpppi = np.zeros_like(r)\n",
    "for i in np.arange(len(r)):\n",
    "    Gpppi[i] = np.sum(np.abs(r[i] - r) * D[i])\n",
    "    Gppp += Gpppi[i]\n",
    "Gppp /= np.size(Gpppi)"
   ]
  },
  {
   "cell_type": "code",
   "execution_count": 24,
   "metadata": {},
   "outputs": [
    {
     "data": {
      "text/plain": [
       "(0.51872333013969596,\n",
       " 0.66250803429133398,\n",
       " 1.4244630366329465,\n",
       " 1.8200671107424362)"
      ]
     },
     "execution_count": 24,
     "metadata": {},
     "output_type": "execute_result"
    }
   ],
   "source": [
    "G, Gp, Gpp, Gppp"
   ]
  },
  {
   "cell_type": "code",
   "execution_count": 25,
   "metadata": {},
   "outputs": [
    {
     "data": {
      "text/plain": [
       "(array([ 0.28907826,  0.70952875,  0.98012852,  0.67672119,  0.34498002,\n",
       "         0.52153837,  0.70706266,  0.87619253,  0.20171377,  0.58587945,\n",
       "         0.11283558,  0.21902085]),\n",
       " array([ 0.41187654,  1.07871938,  1.05257431,  0.78155645,  0.41398779,\n",
       "         0.61821578,  0.9197367 ,  1.17103969,  0.29416769,  0.65087988,\n",
       "         0.21549788,  0.34184433]),\n",
       " array([ 0.92884582,  1.50593683,  2.22298356,  1.66166162,  1.41759455,\n",
       "         1.51018526,  1.95531078,  1.93374461,  0.88037047,  1.55398575,\n",
       "         0.54413145,  0.97880573]),\n",
       " array([ 1.32002402,  2.25674277,  2.48146653,  1.9895285 ,  1.67681366,\n",
       "         1.80222151,  2.39990241,  2.56931548,  1.23876433,  1.8008849 ,\n",
       "         0.93191542,  1.37322581]))"
      ]
     },
     "execution_count": 25,
     "metadata": {},
     "output_type": "execute_result"
    }
   ],
   "source": [
    "Gi, Gpi, Gppi, Gpppi"
   ]
  },
  {
   "cell_type": "code",
   "execution_count": 26,
   "metadata": {
    "collapsed": true
   },
   "outputs": [],
   "source": [
    "aG = np.array([Gi, Gpi, Gppi, Gpppi])"
   ]
  },
  {
   "cell_type": "code",
   "execution_count": 41,
   "metadata": {
    "collapsed": true
   },
   "outputs": [],
   "source": [
    "naG = np.linalg.norm(aG, axis=1)"
   ]
  },
  {
   "cell_type": "code",
   "execution_count": 28,
   "metadata": {
    "collapsed": true
   },
   "outputs": [],
   "source": [
    "nr = np.linalg.norm(r)"
   ]
  },
  {
   "cell_type": "code",
   "execution_count": 46,
   "metadata": {},
   "outputs": [
    {
     "data": {
      "text/plain": [
       "0.71601179622956823"
      ]
     },
     "execution_count": 46,
     "metadata": {},
     "output_type": "execute_result"
    }
   ],
   "source": [
    "nr"
   ]
  },
  {
   "cell_type": "code",
   "execution_count": 52,
   "metadata": {},
   "outputs": [],
   "source": [
    "corr = np.zeros(4)\n",
    "for i in np.arange(4):\n",
<<<<<<< HEAD
    "    corr[i] = np.correlate(aG[i] / naG[i], r / nr)"
=======
    "    corr[i] = np.correlate(aG[i] / naG[i], np.abs(r) / nr)"
>>>>>>> gindex-measure/philipp
   ]
  },
  {
   "cell_type": "code",
   "execution_count": 48,
   "metadata": {},
   "outputs": [
    {
     "data": {
      "text/plain": [
       "array([ 0.20152731,  0.34453562,  0.37884407,  0.30374017,  0.25599818,\n",
       "        0.27514412,  0.36639172,  0.39225592,  0.18912144,  0.27494006,\n",
       "        0.14227499,  0.20964959])"
      ]
     },
     "execution_count": 48,
     "metadata": {},
     "output_type": "execute_result"
    }
   ],
   "source": [
    "aG[i] / naG[i]"
   ]
  },
  {
   "cell_type": "code",
   "execution_count": 53,
   "metadata": {},
   "outputs": [
    {
     "data": {
      "text/plain": [
<<<<<<< HEAD
       "array([ 0.09389846,  0.06799731,  0.09550166,  0.06722191])"
=======
       "array([ 0.96197925,  0.98141686,  0.93051379,  0.94335636])"
>>>>>>> gindex-measure/philipp
      ]
     },
     "execution_count": 53,
     "metadata": {},
     "output_type": "execute_result"
    }
   ],
   "source": [
    "corr"
   ]
  },
  {
   "cell_type": "code",
   "execution_count": null,
   "metadata": {
    "collapsed": true
   },
   "outputs": [],
   "source": []
  }
 ],
 "metadata": {
  "kernelspec": {
   "display_name": "Python 3",
   "language": "python",
   "name": "python3"
  },
  "language_info": {
   "codemirror_mode": {
    "name": "ipython",
    "version": 3
   },
   "file_extension": ".py",
   "mimetype": "text/x-python",
   "name": "python",
   "nbconvert_exporter": "python",
   "pygments_lexer": "ipython3",
   "version": "3.6.3"
  }
 },
 "nbformat": 4,
 "nbformat_minor": 2
}
