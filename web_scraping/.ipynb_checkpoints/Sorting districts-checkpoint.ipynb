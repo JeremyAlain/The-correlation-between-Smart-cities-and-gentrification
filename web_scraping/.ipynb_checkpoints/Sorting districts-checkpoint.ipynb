{
 "cells": [
  {
   "cell_type": "code",
   "execution_count": 1,
   "metadata": {
    "collapsed": true
   },
   "outputs": [],
   "source": [
    "import pandas as pd\n",
    "import numpy as np"
   ]
  },
  {
   "cell_type": "markdown",
   "metadata": {},
   "source": [
    "# New York"
   ]
  },
  {
   "cell_type": "code",
   "execution_count": 23,
   "metadata": {},
   "outputs": [],
   "source": [
    "input_file = pd.read_csv('sort_districts.csv', header=None)\n",
    "districts_income = input_file.as_matrix()\n",
    "# create dictionary \n",
    "district_dict = {\"Staten Island borough, Richmond County, New York\": 1,\n",
    "                \"Elizabeth city, Union County, New Jersey\": 2,\n",
    "                \"Bayonne city, Hudson County, New Jersey\": 3,\n",
    "                 \"Newark city, Essex County, New Jersey\": 4,\n",
    "                 \"Jersey City city, Hudson County, New Jersey\":5,\n",
    "                 \"Kearny town, Hudson County, New Jersey\": 6,\n",
    "                 \"North Arlington borough, Bergen County, New Jersey\": 7,\n",
    "                 \"Lyndhurst township, Bergen County, New Jersey\":8,\n",
    "                 \"Rutherford borough, Bergen County, New Jersey\":9,\n",
    "                 \"East Rutherford borough, Bergen County, New Jersey\":10,\n",
    "                 \"Carlstadt borough, Bergen County, New Jersey\":11,\n",
    "                 \"Secaucus town, Hudson County, New Jersey\":12,\n",
    "                 \"North Bergen township, Hudson County, New Jersey\":13,\n",
    "                 \"Hoboken city, Hudson County, New Jersey\":14,\n",
    "                 \"Union City city, Hudson County, New Jersey\":15,\n",
    "                 \"Weehawken township, Hudson County, New Jersey\":16,\n",
    "                 \"West New York town, Hudson County, New Jersey\":17,\n",
    "                 \"Fairview borough, Bergen County, New Jersey\":18,\n",
    "                 \"Ridgefield borough, Bergen County, New Jersey\":19,\n",
    "                 \"Cliffside Park borough, Bergen County, New Jersey\":20,\n",
    "                 \"Fort Lee borough, Bergen County, New Jersey\":21,\n",
    "                 \"Englewood Cliffs borough, Bergen County, New Jersey\":22,\n",
    "                 \"Edgewater borough, Bergen County, New Jersey\":23,\n",
    "                 \"Bronx borough, Bronx County, New York\":24,\n",
    "                 \"Manhattan borough, New York County, New York\":25,\n",
    "                 \"Brooklyn borough, Kings County, New York\":26,\n",
    "                 \"Queens borough, Queens County, New York\":27   \n",
    "                }\n"
   ]
  },
  {
   "cell_type": "code",
   "execution_count": 30,
   "metadata": {},
   "outputs": [
    {
     "name": "stdout",
     "output_type": "stream",
     "text": [
      "[['Carlstadt borough, Bergen County, New Jersey' 84268]\n",
      " ['Cliffside Park borough, Bergen County, New Jersey' 60616]\n",
      " ['East Rutherford borough, Bergen County, New Jersey' 76771]\n",
      " ['Edgewater borough, Bergen County, New Jersey' 102355]\n",
      " ['Englewood Cliffs borough, Bergen County, New Jersey' 131936]\n",
      " ['Fairview borough, Bergen County, New Jersey' 54177]\n",
      " ['Fort Lee borough, Bergen County, New Jersey' 75449]\n",
      " ['Lyndhurst township, Bergen County, New Jersey' 70099]\n",
      " ['North Arlington borough, Bergen County, New Jersey' 76698]\n",
      " ['Ridgefield borough, Bergen County, New Jersey' 70461]\n",
      " ['Rutherford borough, Bergen County, New Jersey' 87587]\n",
      " ['Newark city, Essex County, New Jersey' 33025]\n",
      " ['Bayonne city, Hudson County, New Jersey' 54862]\n",
      " ['Hoboken city, Hudson County, New Jersey' 118479]\n",
      " ['Jersey City city, Hudson County, New Jersey' 60703]\n",
      " ['Kearny town, Hudson County, New Jersey' 61558]\n",
      " ['North Bergen township, Hudson County, New Jersey' 56129]\n",
      " ['Secaucus town, Hudson County, New Jersey' 94160]\n",
      " ['Union City city, Hudson County, New Jersey' 42483]\n",
      " ['Weehawken township, Hudson County, New Jersey' 83447]\n",
      " ['West New York town, Hudson County, New Jersey' 50334]\n",
      " ['Elizabeth city, Union County, New Jersey' 43831]\n",
      " ['Bronx borough, Bronx County, New York' 35302]\n",
      " ['Brooklyn borough, Kings County, New York' 50640]\n",
      " ['Manhattan borough, New York County, New York' 75513]\n",
      " ['Queens borough, Queens County, New York' 59758]\n",
      " ['Staten Island borough, Richmond County, New York' 74021]]\n",
      "[[  74021.]\n",
      " [  43831.]\n",
      " [  54862.]\n",
      " [  33025.]\n",
      " [  60703.]\n",
      " [  61558.]\n",
      " [  76698.]\n",
      " [  70099.]\n",
      " [  87587.]\n",
      " [  76771.]\n",
      " [  84268.]\n",
      " [  94160.]\n",
      " [  56129.]\n",
      " [ 118479.]\n",
      " [  42483.]\n",
      " [  83447.]\n",
      " [  50334.]\n",
      " [  54177.]\n",
      " [  70461.]\n",
      " [  60616.]\n",
      " [  75449.]\n",
      " [ 131936.]\n",
      " [ 102355.]\n",
      " [  35302.]\n",
      " [  75513.]\n",
      " [  50640.]\n",
      " [  59758.]]\n",
      "Carlstadt borough, Bergen County, New Jersey\n"
     ]
    }
   ],
   "source": [
    "sorted_income =np.zeros((districts_income.shape[0], 1))\n",
    "print(districts_income)\n",
    "\n",
    "# now sort the districts according to the map we described\n",
    "for i in range(districts_income.shape[0]):\n",
    "    index = district_dict[districts_income[i][0]]\n",
    "    sorted_income[index-1]= districts_income[i][1]\n",
    "print(sorted_income)\n",
    "print(sorted_districts[0])"
   ]
  },
  {
   "cell_type": "code",
   "execution_count": null,
   "metadata": {
    "collapsed": true
   },
   "outputs": [],
   "source": []
  }
 ],
 "metadata": {
  "kernelspec": {
   "display_name": "Python 3",
   "language": "python",
   "name": "python3"
  },
  "language_info": {
   "codemirror_mode": {
    "name": "ipython",
    "version": 3
   },
   "file_extension": ".py",
   "mimetype": "text/x-python",
   "name": "python",
   "nbconvert_exporter": "python",
   "pygments_lexer": "ipython3",
   "version": "3.6.2"
  }
 },
 "nbformat": 4,
 "nbformat_minor": 2
}
