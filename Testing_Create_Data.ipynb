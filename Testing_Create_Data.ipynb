{
 "cells": [
  {
   "cell_type": "markdown",
   "metadata": {},
   "source": [
    "# Create Database"
   ]
  },
  {
   "cell_type": "code",
   "execution_count": 41,
   "metadata": {
    "collapsed": true
   },
   "outputs": [],
   "source": [
    "import numpy as np \n",
    "import pandas as pd "
   ]
  },
  {
   "cell_type": "code",
   "execution_count": 42,
   "metadata": {
    "collapsed": true
   },
   "outputs": [],
   "source": [
    "DEV = True"
   ]
  },
  {
   "cell_type": "markdown",
   "metadata": {},
   "source": [
    "## Import the files"
   ]
  },
  {
   "cell_type": "markdown",
   "metadata": {},
   "source": [
    "### Household Income"
   ]
  },
  {
   "cell_type": "markdown",
   "metadata": {},
   "source": [
    "### Distances between districts"
   ]
  },
  {
   "cell_type": "markdown",
   "metadata": {},
   "source": [
    "####  DEV Testing"
   ]
  },
  {
   "cell_type": "code",
   "execution_count": 44,
   "metadata": {},
   "outputs": [
    {
     "name": "stdout",
     "output_type": "stream",
     "text": [
      "Input matrix [[  1.   1.   1.   1.   0.]\n",
      " [ nan   1.   1.   0.   1.]\n",
      " [ nan  nan   1.   1.   1.]\n",
      " [ nan  nan  nan   1.   1.]\n",
      " [ nan  nan  nan  nan   1.]]\n",
      "Shape (5, 5)\n",
      "Test matrix [[  0.   1.   1.   1.   2.]\n",
      " [ nan   0.   1.   2.   1.]\n",
      " [ nan  nan   0.   1.   1.]\n",
      " [ nan  nan  nan   0.   1.]\n",
      " [ nan  nan  nan  nan   0.]]\n"
     ]
    }
   ],
   "source": [
    "# Input File \n",
    "if(DEV):\n",
    "    input_file = pd.read_csv('testing_dev/input_format.csv', header=None)\n",
    "    adjacency_mat = input_file.as_matrix()\n",
    "    print(\"Input matrix\", adjacency_mat)\n",
    "    print(\"Shape\", adjacency_mat.shape)\n",
    "\n",
    "    # Test File \n",
    "    test_file = pd.read_csv('testing_dev/test_result.csv', header=None)\n",
    "    neighbor_jumps = test_file.as_matrix()\n",
    "    print(\"Test matrix\", neighbor_jumps)"
   ]
  },
  {
   "cell_type": "markdown",
   "metadata": {},
   "source": [
    "#### Real data"
   ]
  },
  {
   "cell_type": "markdown",
   "metadata": {},
   "source": [
    "### Calculate neighbours"
   ]
  },
  {
   "cell_type": "code",
   "execution_count": 143,
   "metadata": {},
   "outputs": [],
   "source": [
    " def compute_neighbors(adjacency_mat):    \n",
    "    height = adjacency_mat.shape[0]\n",
    "    neighbor_jumps = np.zeros((height, height))\n",
    "    \n",
    "    # make the adjacency_matrix symmetric for easier computation.\n",
    "    symmetric_adj = adjacency_mat\n",
    "    for i in range(height):\n",
    "        for j in range(height):\n",
    "            symmetric_adj[j,i] = adjacency_mat[i,j]\n",
    "        \n",
    "    # height = widht -> symmetric\n",
    "    for i in range(height):\n",
    "        for j in range(height):\n",
    "            # only for upper triangular part, diag = 0 \n",
    "            if(j>i):\n",
    "                counts = []\n",
    "                print(\"Computing distance for \", i+1, j+1)\n",
    "                ret_counts = find_neighbors(symmetric_adj, i, j, 1, height, counts, [], 10000)\n",
    "                neighbor_jumps[i,j] = int(ret_counts)\n",
    "    return neighbor_jumps\n",
    "                \n",
    "def find_neighbors(symmetric_adj, i, j, count, size, counts, visited, min_count):\n",
    "    print(\"  Begin i: \", i+1, \"j: \", j+1)\n",
    "    print(\"  Visited\", visited)\n",
    "    print(\"count \", count)\n",
    "    if(count >= min_count):\n",
    "        print(\"if min_count: \", min_count)\n",
    "        return min_count\n",
    " \n",
    "    \n",
    "    if(symmetric_adj[i,j] == 1):\n",
    "        visited.append(i)\n",
    "        print(\"  if: \",i+1,j+1)\n",
    "        print(\" current count: \", count)\n",
    "        if(count < min_count):\n",
    "            min_count = count\n",
    "        print(\"Min_count = \", min_count)\n",
    "        return min_count\n",
    "    else: \n",
    "        for k in range(size):\n",
    "            print(\"  k\", k+1)\n",
    "            print(\"  matrix el:\", symmetric_adj[i,k])\n",
    "            if(k!=i and symmetric_adj[i,k] == 1 and k not in visited):\n",
    "                print(\"    condition fullfilled: going to \", k+1,j+1, \"coming from: \", i+1)\n",
    "                visited.append(i)\n",
    "                visited_copy = list(visited)\n",
    "                ret_counts = find_neighbors(symmetric_adj, k, j, count+1, size, counts, visited_copy, min_count)\n",
    "                min_count = ret_counts\n",
    "        return min_count"
   ]
  },
  {
   "cell_type": "markdown",
   "metadata": {},
   "source": [
    "#### DEV Testing"
   ]
  },
  {
   "cell_type": "code",
   "execution_count": 144,
   "metadata": {},
   "outputs": [
    {
     "name": "stdout",
     "output_type": "stream",
     "text": [
      "Computing distance for  1 2\n",
      "  Begin i:  1 j:  2\n",
      "  Visited []\n",
      "count  1\n",
      "  if:  1 2\n",
      " current count:  1\n",
      "Min_count =  1\n",
      "Computing distance for  1 3\n",
      "  Begin i:  1 j:  3\n",
      "  Visited []\n",
      "count  1\n",
      "  if:  1 3\n",
      " current count:  1\n",
      "Min_count =  1\n",
      "Computing distance for  1 4\n",
      "  Begin i:  1 j:  4\n",
      "  Visited []\n",
      "count  1\n",
      "  k 1\n",
      "  matrix el: 1\n",
      "  k 2\n",
      "  matrix el: 1\n",
      "    condition fullfilled: going to  2 4 coming from:  1\n",
      "  Begin i:  2 j:  4\n",
      "  Visited [0]\n",
      "count  2\n",
      "  k 1\n",
      "  matrix el: 1\n",
      "  k 2\n",
      "  matrix el: 1\n",
      "  k 3\n",
      "  matrix el: 0\n",
      "  k 4\n",
      "  matrix el: 0\n",
      "  k 3\n",
      "  matrix el: 1\n",
      "    condition fullfilled: going to  3 4 coming from:  1\n",
      "  Begin i:  3 j:  4\n",
      "  Visited [0, 0]\n",
      "count  2\n",
      "  if:  3 4\n",
      " current count:  2\n",
      "Min_count =  2\n",
      "  k 4\n",
      "  matrix el: 0\n",
      "Computing distance for  2 3\n",
      "  Begin i:  2 j:  3\n",
      "  Visited []\n",
      "count  1\n",
      "  k 1\n",
      "  matrix el: 1\n",
      "    condition fullfilled: going to  1 3 coming from:  2\n",
      "  Begin i:  1 j:  3\n",
      "  Visited [1]\n",
      "count  2\n",
      "  if:  1 3\n",
      " current count:  2\n",
      "Min_count =  2\n",
      "  k 2\n",
      "  matrix el: 1\n",
      "  k 3\n",
      "  matrix el: 0\n",
      "  k 4\n",
      "  matrix el: 0\n",
      "Computing distance for  2 4\n",
      "  Begin i:  2 j:  4\n",
      "  Visited []\n",
      "count  1\n",
      "  k 1\n",
      "  matrix el: 1\n",
      "    condition fullfilled: going to  1 4 coming from:  2\n",
      "  Begin i:  1 j:  4\n",
      "  Visited [1]\n",
      "count  2\n",
      "  k 1\n",
      "  matrix el: 1\n",
      "  k 2\n",
      "  matrix el: 1\n",
      "  k 3\n",
      "  matrix el: 1\n",
      "    condition fullfilled: going to  3 4 coming from:  1\n",
      "  Begin i:  3 j:  4\n",
      "  Visited [1, 0]\n",
      "count  3\n",
      "  if:  3 4\n",
      " current count:  3\n",
      "Min_count =  3\n",
      "  k 4\n",
      "  matrix el: 0\n",
      "  k 2\n",
      "  matrix el: 1\n",
      "  k 3\n",
      "  matrix el: 0\n",
      "  k 4\n",
      "  matrix el: 0\n",
      "Computing distance for  3 4\n",
      "  Begin i:  3 j:  4\n",
      "  Visited []\n",
      "count  1\n",
      "  if:  3 4\n",
      " current count:  1\n",
      "Min_count =  1\n",
      "[[ 0.  1.  1.  2.]\n",
      " [ 0.  0.  2.  3.]\n",
      " [ 0.  0.  0.  1.]\n",
      " [ 0.  0.  0.  0.]]\n",
      "[[0 1 1 2]\n",
      " [0 0 2 3]\n",
      " [0 0 0 1]\n",
      " [0 0 0 0]]\n"
     ]
    }
   ],
   "source": [
    "if(DEV):\n",
    "    input_ = np.array([[1,1,1,0],[0,1,0,0],[0,0,1,1],[0,0,0,1]])\n",
    "    test = np.array([[0,1,1,2],[0,0,2,3],[0,0,0,1],[0,0,0,0]])\n",
    "    nb_jumps = compute_neighbors(input_)\n",
    "    print(nb_jumps)\n",
    "    print(test)\n"
   ]
  },
  {
   "cell_type": "code",
   "execution_count": 127,
   "metadata": {},
   "outputs": [
    {
     "name": "stdout",
     "output_type": "stream",
     "text": [
      "Computing distance for  1 2\n",
      "  Begin i:  1 j:  2\n",
      "  Visited []\n",
      "  if:  1 2\n",
      " current count:  1\n",
      "Computing distance for  1 3\n",
      "  Begin i:  1 j:  3\n",
      "  Visited []\n",
      "  if:  1 3\n",
      " current count:  1\n",
      "Computing distance for  1 4\n",
      "  Begin i:  1 j:  4\n",
      "  Visited []\n",
      "  if:  1 4\n",
      " current count:  1\n",
      "Computing distance for  1 5\n",
      "  Begin i:  1 j:  5\n",
      "  Visited []\n",
      "  k 1\n",
      "  matrix el: 1.0\n",
      "  k 2\n",
      "  matrix el: 1.0\n",
      "    condition fullfilled: going to  2 5 coming from:  1\n",
      "  Begin i:  2 j:  5\n",
      "  Visited [0]\n",
      "  if:  2 5\n",
      " current count:  2\n",
      "  k 3\n",
      "  matrix el: 1.0\n",
      "    condition fullfilled: going to  3 5 coming from:  1\n",
      "  Begin i:  3 j:  5\n",
      "  Visited [0, 0]\n",
      "  if:  3 5\n",
      " current count:  2\n",
      "  k 4\n",
      "  matrix el: 1.0\n",
      "    condition fullfilled: going to  4 5 coming from:  1\n",
      "  Begin i:  4 j:  5\n",
      "  Visited [0, 0, 0]\n",
      "  if:  4 5\n",
      " current count:  2\n",
      "  k 5\n",
      "  matrix el: 0.0\n",
      "Computing distance for  2 3\n",
      "  Begin i:  2 j:  3\n",
      "  Visited []\n",
      "  if:  2 3\n",
      " current count:  1\n",
      "Computing distance for  2 4\n",
      "  Begin i:  2 j:  4\n",
      "  Visited []\n",
      "  k 1\n",
      "  matrix el: 1.0\n",
      "    condition fullfilled: going to  1 4 coming from:  2\n",
      "  Begin i:  1 j:  4\n",
      "  Visited [1]\n",
      "  if:  1 4\n",
      " current count:  2\n",
      "  k 2\n",
      "  matrix el: 1.0\n",
      "  k 3\n",
      "  matrix el: 1.0\n",
      "    condition fullfilled: going to  3 4 coming from:  2\n",
      "  Begin i:  3 j:  4\n",
      "  Visited [1, 1]\n",
      "  if:  3 4\n",
      " current count:  2\n",
      "  k 4\n",
      "  matrix el: 0.0\n",
      "  k 5\n",
      "  matrix el: 1.0\n",
      "    condition fullfilled: going to  5 4 coming from:  2\n",
      "  Begin i:  5 j:  4\n",
      "  Visited [1, 1, 1]\n",
      "  if:  5 4\n",
      " current count:  2\n",
      "Computing distance for  2 5\n",
      "  Begin i:  2 j:  5\n",
      "  Visited []\n",
      "  if:  2 5\n",
      " current count:  1\n",
      "Computing distance for  3 4\n",
      "  Begin i:  3 j:  4\n",
      "  Visited []\n",
      "  if:  3 4\n",
      " current count:  1\n",
      "Computing distance for  3 5\n",
      "  Begin i:  3 j:  5\n",
      "  Visited []\n",
      "  if:  3 5\n",
      " current count:  1\n",
      "Computing distance for  4 5\n",
      "  Begin i:  4 j:  5\n",
      "  Visited []\n",
      "  if:  4 5\n",
      " current count:  1\n",
      "[[  0.00000000e+00   1.00000000e+00   1.00000000e+00   1.00000000e+00\n",
      "    1.00000000e+04]\n",
      " [  0.00000000e+00   0.00000000e+00   1.00000000e+00   1.00000000e+04\n",
      "    1.00000000e+00]\n",
      " [  0.00000000e+00   0.00000000e+00   0.00000000e+00   1.00000000e+00\n",
      "    1.00000000e+00]\n",
      " [  0.00000000e+00   0.00000000e+00   0.00000000e+00   0.00000000e+00\n",
      "    1.00000000e+00]\n",
      " [  0.00000000e+00   0.00000000e+00   0.00000000e+00   0.00000000e+00\n",
      "    0.00000000e+00]]\n",
      "[[  0.   1.   1.   1.   2.]\n",
      " [ nan   0.   1.   2.   1.]\n",
      " [ nan  nan   0.   1.   1.]\n",
      " [ nan  nan  nan   0.   1.]\n",
      " [ nan  nan  nan  nan   0.]]\n"
     ]
    }
   ],
   "source": [
    "if(DEV):\n",
    "    neighbor_jumps_comp = compute_neighbors(adjacency_mat)\n",
    "    print(neighbor_jumps_comp)\n",
    "    print(neighbor_jumps)"
   ]
  },
  {
   "cell_type": "code",
   "execution_count": null,
   "metadata": {
    "collapsed": true
   },
   "outputs": [],
   "source": []
  }
 ],
 "metadata": {
  "kernelspec": {
   "display_name": "Python 3",
   "language": "python",
   "name": "python3"
  },
  "language_info": {
   "codemirror_mode": {
    "name": "ipython",
    "version": 3
   },
   "file_extension": ".py",
   "mimetype": "text/x-python",
   "name": "python",
   "nbconvert_exporter": "python",
   "pygments_lexer": "ipython3",
   "version": "3.6.2"
  }
 },
 "nbformat": 4,
 "nbformat_minor": 2
}
