{
 "cells": [
  {
   "cell_type": "code",
   "execution_count": 18,
   "metadata": {
    "collapsed": true
   },
   "outputs": [],
   "source": [
    "import pandas as pd\n",
    "import numpy as np"
   ]
  },
  {
   "cell_type": "markdown",
   "metadata": {},
   "source": [
    "# New York"
   ]
  },
  {
   "cell_type": "code",
   "execution_count": 19,
   "metadata": {},
   "outputs": [],
   "source": [
    "input_file = pd.read_csv('sort_districts_nyc.csv', header=None)\n",
    "districts_income = input_file.as_matrix()\n",
    "districts_income = districts_income[1:][:]\n",
    "# create dictionary \n",
    "district_dict = {\"Staten Island borough, Richmond County, New York\": 1,\n",
    "                \"Elizabeth city, Union County, New Jersey\": 2,\n",
    "                \"Bayonne city, Hudson County, New Jersey\": 3,\n",
    "                 \"Newark city, Essex County, New Jersey\": 4,\n",
    "                 \"Jersey City city, Hudson County, New Jersey\":5,\n",
    "                 \"Kearny town, Hudson County, New Jersey\": 6,\n",
    "                 \"North Arlington borough, Bergen County, New Jersey\": 7,\n",
    "                 \"Lyndhurst township, Bergen County, New Jersey\":8,\n",
    "                 \"Rutherford borough, Bergen County, New Jersey\":9,\n",
    "                 \"East Rutherford borough, Bergen County, New Jersey\":10,\n",
    "                 \"Carlstadt borough, Bergen County, New Jersey\":11,\n",
    "                 \"Secaucus town, Hudson County, New Jersey\":12,\n",
    "                 \"North Bergen township, Hudson County, New Jersey\":13,\n",
    "                 \"Hoboken city, Hudson County, New Jersey\":14,\n",
    "                 \"Union City city, Hudson County, New Jersey\":15,\n",
    "                 \"Weehawken township, Hudson County, New Jersey\":16,\n",
    "                 \"West New York town, Hudson County, New Jersey\":17,\n",
    "                 \"Fairview borough, Bergen County, New Jersey\":18,\n",
    "                 \"Ridgefield borough, Bergen County, New Jersey\":19,\n",
    "                 \"Cliffside Park borough, Bergen County, New Jersey\":20,\n",
    "                 \"Fort Lee borough, Bergen County, New Jersey\":21,\n",
    "                 \"Englewood Cliffs borough, Bergen County, New Jersey\":22,\n",
    "                 \"Edgewater borough, Bergen County, New Jersey\":23,\n",
    "                 \"Bronx borough, Bronx County, New York\":24,\n",
    "                 \"Manhattan borough, New York County, New York\":25,\n",
    "                 \"Brooklyn borough, Kings County, New York\":26,\n",
    "                 \"Queens borough, Queens County, New York\":27, \n",
    "                 \"Harrison town, Hudson County, New Jersey\":28,\n",
    "                 \"East Newark borough, Hudson County, New Jersey\":29\n",
    "                }\n"
   ]
  },
  {
   "cell_type": "code",
   "execution_count": 20,
   "metadata": {},
   "outputs": [
    {
     "name": "stdout",
     "output_type": "stream",
     "text": [
      "[['Carlstadt borough, Bergen County, New Jersey' 78097 77720 86087 91518\n",
      "  89008 94476 92733 99652]\n",
      " ['Cliffside Park borough, Bergen County, New Jersey' 82755 82919 81745\n",
      "  82157 84251 82458 86493 87697]\n",
      " ['East Rutherford borough, Bergen County, New Jersey' 73709 72450 74589\n",
      "  77222 84793 87183 93248 89815]\n",
      " ['Edgewater borough, Bergen County, New Jersey' 107783 110818 116467\n",
      "  122411 132042 131797 132004 132425]\n",
      " ['Englewood Cliffs borough, Bergen County, New Jersey' 178833 168543\n",
      "  186010 186616 184389 195479 198910 184956]\n",
      " ['Fairview borough, Bergen County, New Jersey' 56934 60653 61894 64313\n",
      "  64892 65208 67097 66816]\n",
      " ['Fort Lee borough, Bergen County, New Jersey' 97030 96097 96135 97102\n",
      "  96952 90577 96943 101429]\n",
      " ['Lyndhurst township, Bergen County, New Jersey' 83574 83400 88673 86122\n",
      "  86920 86441 87021 89997]\n",
      " ['North Arlington borough, Bergen County, New Jersey' 87469 85142 87203\n",
      "  93617 86234 84670 84570 93404]\n",
      " ['Ridgefield borough, Bergen County, New Jersey' 76400 76128 78718 80959\n",
      "  82073 84867 84479 89727]\n",
      " ['Rutherford borough, Bergen County, New Jersey' 107288 105531 105456\n",
      "  107532 109159 104237 107845 112027]\n",
      " ['Newark city, Essex County, New Jersey' 46829 47328 48319 46953 46561\n",
      "  46226 45925 46417]\n",
      " ['Bayonne city, Hudson County, New Jersey' 65808 68321 71001 71896 70866\n",
      "  70258 70141 72125]\n",
      " ['East Newark borough, Hudson County, New Jersey' 60089 66896 68267 71258\n",
      "  66959 71038 65670 78572]\n",
      " ['Harrison town, Hudson County, New Jersey' 59082 61197 64714 67230 66436\n",
      "  67108 71279 72390]\n",
      " ['Hoboken city, Hudson County, New Jersey' 138534 137166 142609 143228\n",
      "  145377 143819 151023 157923]\n",
      " ['Jersey City city, Hudson County, New Jersey' 73933 76591 80702 81453\n",
      "  82617 83238 84412 88455]\n",
      " ['Kearny town, Hudson County, New Jersey' 70613 70613 73412 75689 75293\n",
      "  75999 75763 75787]\n",
      " ['North Bergen township, Hudson County, New Jersey' 66331 68554 70116\n",
      "  70809 70256 69685 70022 71224]\n",
      " ['Secaucus town, Hudson County, New Jersey' 95375 98496 100758 103461\n",
      "  105975 104601 108880 118488]\n",
      " ['Union City city, Hudson County, New Jersey' 51729 51251 51598 53868\n",
      "  55061 55416 55511 57765]\n",
      " ['Weehawken township, Hudson County, New Jersey' 95138 96300 100588 106163\n",
      "  109652 118766 117049 125258]\n",
      " ['West New York town, Hudson County, New Jersey' 60205 63818 63430 65206\n",
      "  67047 67477 66341 69618]\n",
      " ['Elizabeth city, Union County, New Jersey' 54903 55289 57206 56765 56548\n",
      "  56950 56131 55355]\n",
      " ['Bronx borough, Bronx County, New York' 46803 47325 48609 48852 49421\n",
      "  49661 50191 51445]\n",
      " ['Brooklyn borough, Kings County, New York' 61578 62656 64845 65770 67629\n",
      "  69599 71957 75810]\n",
      " ['Manhattan borough, New York County, New York' 124930 122620 127411\n",
      "  128721 130490 132838 135687 138748]\n",
      " ['Queens borough, Queens County, New York' 69200 70208 72324 72891 73521\n",
      "  74140 75162 77515]\n",
      " ['Staten Island borough, Richmond County, New York' 86147 86604 88221\n",
      "  89078 89552 90681 90236 92152]]\n",
      "[[  86147.   86604.   88221.   89078.   89552.   90681.   90236.   92152.]\n",
      " [  54903.   55289.   57206.   56765.   56548.   56950.   56131.   55355.]\n",
      " [  65808.   68321.   71001.   71896.   70866.   70258.   70141.   72125.]\n",
      " [  46829.   47328.   48319.   46953.   46561.   46226.   45925.   46417.]\n",
      " [  73933.   76591.   80702.   81453.   82617.   83238.   84412.   88455.]\n",
      " [  70613.   70613.   73412.   75689.   75293.   75999.   75763.   75787.]\n",
      " [  87469.   85142.   87203.   93617.   86234.   84670.   84570.   93404.]\n",
      " [  83574.   83400.   88673.   86122.   86920.   86441.   87021.   89997.]\n",
      " [ 107288.  105531.  105456.  107532.  109159.  104237.  107845.  112027.]\n",
      " [  73709.   72450.   74589.   77222.   84793.   87183.   93248.   89815.]\n",
      " [  78097.   77720.   86087.   91518.   89008.   94476.   92733.   99652.]\n",
      " [  95375.   98496.  100758.  103461.  105975.  104601.  108880.  118488.]\n",
      " [  66331.   68554.   70116.   70809.   70256.   69685.   70022.   71224.]\n",
      " [ 138534.  137166.  142609.  143228.  145377.  143819.  151023.  157923.]\n",
      " [  51729.   51251.   51598.   53868.   55061.   55416.   55511.   57765.]\n",
      " [  95138.   96300.  100588.  106163.  109652.  118766.  117049.  125258.]\n",
      " [  60205.   63818.   63430.   65206.   67047.   67477.   66341.   69618.]\n",
      " [  56934.   60653.   61894.   64313.   64892.   65208.   67097.   66816.]\n",
      " [  76400.   76128.   78718.   80959.   82073.   84867.   84479.   89727.]\n",
      " [  82755.   82919.   81745.   82157.   84251.   82458.   86493.   87697.]\n",
      " [  97030.   96097.   96135.   97102.   96952.   90577.   96943.  101429.]\n",
      " [ 178833.  168543.  186010.  186616.  184389.  195479.  198910.  184956.]\n",
      " [ 107783.  110818.  116467.  122411.  132042.  131797.  132004.  132425.]\n",
      " [  46803.   47325.   48609.   48852.   49421.   49661.   50191.   51445.]\n",
      " [ 124930.  122620.  127411.  128721.  130490.  132838.  135687.  138748.]\n",
      " [  61578.   62656.   64845.   65770.   67629.   69599.   71957.   75810.]\n",
      " [  69200.   70208.   72324.   72891.   73521.   74140.   75162.   77515.]\n",
      " [  59082.   61197.   64714.   67230.   66436.   67108.   71279.   72390.]\n",
      " [  60089.   66896.   68267.   71258.   66959.   71038.   65670.   78572.]]\n"
     ]
    }
   ],
   "source": [
    "sorted_income =np.zeros((districts_income.shape[0], districts_income.shape[1]-1))\n",
    "print(districts_income)\n",
    "\n",
    "# now sort the districts according to the map we described\n",
    "for i in range(districts_income.shape[0]):\n",
    "    index = district_dict[districts_income[i][0]]\n",
    "    sorted_income[index-1]= districts_income[i][1:]\n",
    "print(sorted_income)\n"
   ]
  },
  {
   "cell_type": "code",
   "execution_count": 21,
   "metadata": {
    "collapsed": true
   },
   "outputs": [],
   "source": [
    "df = pd.DataFrame(sorted_income)\n",
    "df.to_csv(\"nyc_income.csv\")"
   ]
  },
  {
   "cell_type": "code",
   "execution_count": null,
   "metadata": {
    "collapsed": true
   },
   "outputs": [],
   "source": []
  }
 ],
 "metadata": {
  "kernelspec": {
   "display_name": "Python 3",
   "language": "python",
   "name": "python3"
  },
  "language_info": {
   "codemirror_mode": {
    "name": "ipython",
    "version": 3
   },
   "file_extension": ".py",
   "mimetype": "text/x-python",
   "name": "python",
   "nbconvert_exporter": "python",
   "pygments_lexer": "ipython3",
   "version": "3.6.2"
  }
 },
 "nbformat": 4,
 "nbformat_minor": 2
}
